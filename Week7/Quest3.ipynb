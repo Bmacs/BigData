{
 "cells": [
  {
   "cell_type": "code",
   "execution_count": 134,
   "metadata": {},
   "outputs": [],
   "source": [
    "import random\n",
    "\n",
    "GREETING_KEYWORDS = [\"hey\", \"hi\", \"what's up\", \"sup\", \"hello\", \"hola\", \"yo\"]\n",
    "GREETING_RESPONSES = [\"Hello\", \"Who are you?\", \"What's your name?\"]\n",
    "\n",
    "\n",
    "\n",
    "LASTRESORT_RESPONSES = [\"I like you\", \":)\", \"Uhhhhh\"]\n",
    "NAME_KEYWORDS = ['name?', 'what is your name', \"what's your name\"]\n",
    "NAME_RESPONSES = [\"I'm BmacsBot\", \"I am BmacsBot\", \"Brendan made me therefore I am BmacsBot\"]\n",
    "\n",
    "INTRODUCTIONS_KEYWORDS = [\"i'm bmacs\", \"my names bmacs\", \"i'm brendan\"]\n",
    "INTRO_RESPONSES = ['Hi there!', \"Nice to meet you\", \"I'm BmacsBot\"]\n",
    "\n",
    "def respond(text):\n",
    "    for word in GREETING_KEYWORDS:\n",
    "        if text.lower() in GREETING_KEYWORDS:\n",
    "            return random.choice(GREETING_RESPONSES)\n",
    "    for word in NAME_KEYWORDS:\n",
    "        if text.lower() in NAME_KEYWORDS:\n",
    "            return random.choice(NAME_RESPONSES)\n",
    "    for word in INTRODUCTIONS_KEYWORDS:\n",
    "        if text.lower() in INTRODUCTIONS_KEYWORDS:\n",
    "            return random.choice(INTRO_RESPONSES)\n",
    "    return random.choice(LASTRESORT_RESPONSES)\n",
    "    "
   ]
  },
  {
   "cell_type": "code",
   "execution_count": 135,
   "metadata": {},
   "outputs": [
    {
     "data": {
      "text/plain": [
       "'Who are you?'"
      ]
     },
     "execution_count": 135,
     "metadata": {},
     "output_type": "execute_result"
    }
   ],
   "source": [
    "respond(\"Hi\")"
   ]
  },
  {
   "cell_type": "code",
   "execution_count": 136,
   "metadata": {},
   "outputs": [
    {
     "data": {
      "text/plain": [
       "':)'"
      ]
     },
     "execution_count": 136,
     "metadata": {},
     "output_type": "execute_result"
    }
   ],
   "source": [
    "respond(\"name\")"
   ]
  },
  {
   "cell_type": "raw",
   "metadata": {},
   "source": [
    "respond(\"hey\")"
   ]
  },
  {
   "cell_type": "code",
   "execution_count": 137,
   "metadata": {},
   "outputs": [
    {
     "data": {
      "text/plain": [
       "'Who are you?'"
      ]
     },
     "execution_count": 137,
     "metadata": {},
     "output_type": "execute_result"
    }
   ],
   "source": [
    "respond(\"hey\")"
   ]
  },
  {
   "cell_type": "code",
   "execution_count": 138,
   "metadata": {},
   "outputs": [
    {
     "data": {
      "text/plain": [
       "\"I'm BmacsBot\""
      ]
     },
     "execution_count": 138,
     "metadata": {},
     "output_type": "execute_result"
    }
   ],
   "source": [
    "respond(\"i'm bmacs\")"
   ]
  },
  {
   "cell_type": "code",
   "execution_count": 139,
   "metadata": {},
   "outputs": [
    {
     "data": {
      "text/plain": [
       "\"What's your name?\""
      ]
     },
     "execution_count": 139,
     "metadata": {},
     "output_type": "execute_result"
    }
   ],
   "source": [
    "respond(\"Hello\")"
   ]
  },
  {
   "cell_type": "raw",
   "metadata": {},
   "source": []
  },
  {
   "cell_type": "code",
   "execution_count": 140,
   "metadata": {},
   "outputs": [
    {
     "data": {
      "text/plain": [
       "'Hi there!'"
      ]
     },
     "execution_count": 140,
     "metadata": {},
     "output_type": "execute_result"
    }
   ],
   "source": [
    "respond(\"I'm Bmacs\")"
   ]
  },
  {
   "cell_type": "code",
   "execution_count": null,
   "metadata": {},
   "outputs": [],
   "source": []
  },
  {
   "cell_type": "code",
   "execution_count": null,
   "metadata": {},
   "outputs": [],
   "source": []
  }
 ],
 "metadata": {
  "kernelspec": {
   "display_name": "Python 3",
   "language": "python",
   "name": "python3"
  },
  "language_info": {
   "codemirror_mode": {
    "name": "ipython",
    "version": 3
   },
   "file_extension": ".py",
   "mimetype": "text/x-python",
   "name": "python",
   "nbconvert_exporter": "python",
   "pygments_lexer": "ipython3",
   "version": "3.6.4"
  }
 },
 "nbformat": 4,
 "nbformat_minor": 2
}
