{
 "cells": [
  {
   "cell_type": "code",
   "execution_count": 1,
   "metadata": {},
   "outputs": [
    {
     "ename": "ModuleNotFoundError",
     "evalue": "No module named 'wget'",
     "output_type": "error",
     "traceback": [
      "\u001b[0;31m---------------------------------------------------------------------------\u001b[0m",
      "\u001b[0;31mModuleNotFoundError\u001b[0m                       Traceback (most recent call last)",
      "\u001b[0;32m<ipython-input-1-381d77ba2736>\u001b[0m in \u001b[0;36m<module>\u001b[0;34m()\u001b[0m\n\u001b[0;32m----> 1\u001b[0;31m \u001b[0;32mimport\u001b[0m \u001b[0mwget\u001b[0m\u001b[0;34m\u001b[0m\u001b[0m\n\u001b[0m",
      "\u001b[0;31mModuleNotFoundError\u001b[0m: No module named 'wget'"
     ]
    }
   ],
   "source": [
    "import wget"
   ]
  },
  {
   "cell_type": "code",
   "execution_count": 2,
   "metadata": {},
   "outputs": [
    {
     "name": "stdout",
     "output_type": "stream",
     "text": [
      "Collecting wget\n",
      "  Downloading wget-3.2.zip\n",
      "Building wheels for collected packages: wget\n",
      "  Running setup.py bdist_wheel for wget: started\n",
      "  Running setup.py bdist_wheel for wget: finished with status 'done'\n",
      "  Stored in directory: /home/bmacs/.cache/pip/wheels/6d/98/29/61ccc41148f871009126c2e844e26f73eeb25e12cca92228a5\n",
      "Successfully built wget\n",
      "Installing collected packages: wget\n",
      "Successfully installed wget-3.2\n"
     ]
    }
   ],
   "source": [
    "import pip\n",
    "pip.main(['install', 'wget'])\n",
    "import wget"
   ]
  },
  {
   "cell_type": "code",
   "execution_count": 3,
   "metadata": {},
   "outputs": [],
   "source": [
    "try:\n",
    "    import wget\n",
    "except:\n",
    "    import pip\n",
    "    pip.main(['install', 'wget'])\n",
    "    import wget"
   ]
  },
  {
   "cell_type": "code",
   "execution_count": 4,
   "metadata": {},
   "outputs": [
    {
     "name": "stdout",
     "output_type": "stream",
     "text": [
      "Collecting pandas_datareader\n"
     ]
    },
    {
     "name": "stderr",
     "output_type": "stream",
     "text": [
      "/home/bmacs/anaconda3/lib/python3.6/importlib/_bootstrap.py:219: RuntimeWarning: numpy.dtype size changed, may indicate binary incompatibility. Expected 96, got 88\n",
      "  return f(*args, **kwds)\n"
     ]
    },
    {
     "name": "stdout",
     "output_type": "stream",
     "text": [
      "  Downloading pandas_datareader-0.6.0-py2.py3-none-any.whl (103kB)\n",
      "Collecting requests-file (from pandas_datareader)\n",
      "  Downloading requests_file-1.4.3-py2.py3-none-any.whl\n",
      "Requirement already satisfied: wrapt in /home/bmacs/anaconda3/lib/python3.6/site-packages (from pandas_datareader)\n",
      "Collecting requests-ftp (from pandas_datareader)\n",
      "  Downloading requests-ftp-0.3.1.tar.gz\n",
      "Requirement already satisfied: requests>=2.3.0 in /home/bmacs/anaconda3/lib/python3.6/site-packages (from pandas_datareader)\n",
      "Requirement already satisfied: lxml in /home/bmacs/anaconda3/lib/python3.6/site-packages (from pandas_datareader)\n",
      "Requirement already satisfied: pandas>=0.19.2 in /home/bmacs/anaconda3/lib/python3.6/site-packages (from pandas_datareader)\n",
      "Requirement already satisfied: six in /home/bmacs/anaconda3/lib/python3.6/site-packages (from requests-file->pandas_datareader)\n",
      "Requirement already satisfied: chardet<3.1.0,>=3.0.2 in /home/bmacs/anaconda3/lib/python3.6/site-packages (from requests>=2.3.0->pandas_datareader)\n",
      "Requirement already satisfied: idna<2.7,>=2.5 in /home/bmacs/anaconda3/lib/python3.6/site-packages (from requests>=2.3.0->pandas_datareader)\n",
      "Requirement already satisfied: urllib3<1.23,>=1.21.1 in /home/bmacs/anaconda3/lib/python3.6/site-packages (from requests>=2.3.0->pandas_datareader)\n",
      "Requirement already satisfied: certifi>=2017.4.17 in /home/bmacs/anaconda3/lib/python3.6/site-packages (from requests>=2.3.0->pandas_datareader)\n",
      "Requirement already satisfied: python-dateutil>=2 in /home/bmacs/anaconda3/lib/python3.6/site-packages (from pandas>=0.19.2->pandas_datareader)\n",
      "Requirement already satisfied: pytz>=2011k in /home/bmacs/anaconda3/lib/python3.6/site-packages (from pandas>=0.19.2->pandas_datareader)\n",
      "Requirement already satisfied: numpy>=1.9.0 in /home/bmacs/anaconda3/lib/python3.6/site-packages (from pandas>=0.19.2->pandas_datareader)\n",
      "Building wheels for collected packages: requests-ftp\n",
      "  Running setup.py bdist_wheel for requests-ftp: started\n",
      "  Running setup.py bdist_wheel for requests-ftp: finished with status 'done'\n",
      "  Stored in directory: /home/bmacs/.cache/pip/wheels/76/fb/0d/1026eb562c34a4982dc9d39c9c582a734eefe7f0455f711deb\n",
      "Successfully built requests-ftp\n",
      "Installing collected packages: requests-file, requests-ftp, pandas-datareader\n",
      "Successfully installed pandas-datareader-0.6.0 requests-file-1.4.3 requests-ftp-0.3.1\n"
     ]
    }
   ],
   "source": [
    "import datetime as dt\n",
    "import matplotlib.pyplot as plt \n",
    "from matplotlib import style\n",
    "import pandas as pd\n",
    "try:\n",
    "    import pandas_datareader.data as web\n",
    "except:\n",
    "    import pip\n",
    "    pip.main(['install', 'pandas_datareader'])\n",
    "    import pandas_datareader.data as web"
   ]
  },
  {
   "cell_type": "code",
   "execution_count": 5,
   "metadata": {},
   "outputs": [],
   "source": [
    "style.use('ggplot')"
   ]
  },
  {
   "cell_type": "code",
   "execution_count": 6,
   "metadata": {},
   "outputs": [],
   "source": [
    "start = dt.datetime(2000,1,1)\n",
    "end = dt.datetime(2016,12,31)"
   ]
  },
  {
   "cell_type": "code",
   "execution_count": 7,
   "metadata": {},
   "outputs": [],
   "source": [
    "class YahooDailyReader():\n",
    "    \n",
    "    def __init__(self, symbol=None, start=None, end=None):\n",
    "        import datetime, time\n",
    "        self.symbol = symbol\n",
    "        \n",
    "        # initialize start/end dates if not provided\n",
    "        if end is None:\n",
    "            end = datetime.datetime.today()\n",
    "        if start is None:\n",
    "            start = datetime.datetime(2010,1,1)\n",
    "        \n",
    "        self.start = start\n",
    "        self.end = end\n",
    "        \n",
    "        # convert dates to unix time strings\n",
    "        unix_start = int(time.mktime(self.start.timetuple()))\n",
    "        day_end = self.end.replace(hour=23, minute=59, second=59)\n",
    "        unix_end = int(time.mktime(day_end.timetuple()))\n",
    "        \n",
    "        url = 'https://finance.yahoo.com/quote/{}/history?'\n",
    "        url += 'period1={}&period2={}'\n",
    "        url += '&filter=history'\n",
    "        url += '&interval=1d'\n",
    "        url += '&frequency=1d'\n",
    "        self.url = url.format(self.symbol, unix_start, unix_end)\n",
    "        \n",
    "    def read(self):\n",
    "        import requests, re, json\n",
    "       \n",
    "        r = requests.get(self.url)\n",
    "        \n",
    "        ptrn = r'root\\.App\\.main = (.*?);\\n}\\(this\\)\\);'\n",
    "        txt = re.search(ptrn, r.text, re.DOTALL).group(1)\n",
    "        jsn = json.loads(txt)\n",
    "        df = pd.DataFrame(\n",
    "                jsn['context']['dispatcher']['stores']\n",
    "                ['HistoricalPriceStore']['prices']\n",
    "                )\n",
    "        df.insert(0, 'symbol', self.symbol)\n",
    "        df['date'] = pd.to_datetime(df['date'], unit='s').dt.date\n",
    "        \n",
    "        # drop rows that aren't prices\n",
    "        df = df.dropna(subset=['close'])\n",
    "        \n",
    "        df = df[['symbol', 'date', 'high', 'low', 'open', 'close', \n",
    "                 'volume', 'adjclose']]\n",
    "        df = df.set_index('symbol')\n",
    "        return df"
   ]
  },
  {
   "cell_type": "code",
   "execution_count": 8,
   "metadata": {},
   "outputs": [],
   "source": [
    "ydr = YahooDailyReader('TSLA')\n",
    "df = ydr.read()"
   ]
  },
  {
   "cell_type": "code",
   "execution_count": 9,
   "metadata": {},
   "outputs": [
    {
     "name": "stdout",
     "output_type": "stream",
     "text": [
      "              date        high         low        open       close    volume  \\\n",
      "symbol                                                                         \n",
      "TSLA    2018-04-10  307.100006  293.679993  298.970001  304.700012  10706172   \n",
      "TSLA    2018-04-09  309.500000  289.209991  300.369995  289.660004  10231500   \n",
      "TSLA    2018-04-06  309.279999  295.500000  301.000000  299.299988  13520300   \n",
      "TSLA    2018-04-05  306.260010  288.200012  289.339996  305.720001  19121100   \n",
      "TSLA    2018-04-04  288.369995  252.000000  252.779999  286.940002  19896700   \n",
      "TSLA    2018-04-03  273.350006  254.490005  269.820007  267.529999  18844400   \n",
      "\n",
      "          adjclose  \n",
      "symbol              \n",
      "TSLA    304.700012  \n",
      "TSLA    289.660004  \n",
      "TSLA    299.299988  \n",
      "TSLA    305.720001  \n",
      "TSLA    286.940002  \n",
      "TSLA    267.529999  \n"
     ]
    }
   ],
   "source": [
    "print(df.head(6))"
   ]
  },
  {
   "cell_type": "code",
   "execution_count": 10,
   "metadata": {},
   "outputs": [
    {
     "name": "stdout",
     "output_type": "stream",
     "text": [
      "symbol\n",
      "TSLA    298.970001\n",
      "TSLA    300.369995\n",
      "TSLA    301.000000\n",
      "TSLA    289.339996\n",
      "TSLA    252.779999\n",
      "Name: open, dtype: float64\n"
     ]
    }
   ],
   "source": [
    "print(df['open'][0:5])"
   ]
  },
  {
   "cell_type": "code",
   "execution_count": 11,
   "metadata": {},
   "outputs": [],
   "source": [
    "df.to_csv('tesla.csv')"
   ]
  },
  {
   "cell_type": "code",
   "execution_count": 12,
   "metadata": {},
   "outputs": [],
   "source": [
    "df = pd.read_csv('tesla.csv')"
   ]
  },
  {
   "cell_type": "code",
   "execution_count": 13,
   "metadata": {},
   "outputs": [
    {
     "name": "stdout",
     "output_type": "stream",
     "text": [
      "  symbol        date        high         low        open       close  \\\n",
      "0   TSLA  2018-04-10  307.100006  293.679993  298.970001  304.700012   \n",
      "1   TSLA  2018-04-09  309.500000  289.209991  300.369995  289.660004   \n",
      "2   TSLA  2018-04-06  309.279999  295.500000  301.000000  299.299988   \n",
      "3   TSLA  2018-04-05  306.260010  288.200012  289.339996  305.720001   \n",
      "4   TSLA  2018-04-04  288.369995  252.000000  252.779999  286.940002   \n",
      "\n",
      "     volume    adjclose  \n",
      "0  10706172  304.700012  \n",
      "1  10231500  289.660004  \n",
      "2  13520300  299.299988  \n",
      "3  19121100  305.720001  \n",
      "4  19896700  286.940002  \n"
     ]
    }
   ],
   "source": [
    "print(df.head())"
   ]
  },
  {
   "cell_type": "code",
   "execution_count": 14,
   "metadata": {},
   "outputs": [],
   "source": [
    "df = pd.read_csv('tesla.csv', parse_dates=True, index_col=0)"
   ]
  },
  {
   "cell_type": "code",
   "execution_count": 15,
   "metadata": {},
   "outputs": [
    {
     "data": {
      "image/png": "[encoded data removed]",
      "text/plain": [
       "<matplotlib.figure.Figure at 0x7f1f818096a0>"
      ]
     },
     "metadata": {},
     "output_type": "display_data"
    }
   ],
   "source": [
    "df.plot()\n",
    "plt.show()"
   ]
  },
  {
   "cell_type": "code",
   "execution_count": 16,
   "metadata": {},
   "outputs": [
    {
     "data": {
      "image/png": "[encoded data removed]",
      "text/plain": [
       "<matplotlib.figure.Figure at 0x7f1f8256d128>"
      ]
     },
     "metadata": {},
     "output_type": "display_data"
    }
   ],
   "source": [
    "df['adjclose'].plot()\n",
    "plt.show()"
   ]
  },
  {
   "cell_type": "code",
   "execution_count": 17,
   "metadata": {},
   "outputs": [
    {
     "name": "stdout",
     "output_type": "stream",
     "text": [
      "symbol\n",
      "TSLA    304.700012\n",
      "TSLA    289.660004\n",
      "TSLA    299.299988\n",
      "TSLA    305.720001\n",
      "TSLA    286.940002\n",
      "TSLA    267.529999\n",
      "TSLA    252.479996\n",
      "TSLA    266.130005\n",
      "TSLA    257.779999\n",
      "TSLA    279.179993\n",
      "TSLA    304.179993\n",
      "TSLA    301.540009\n",
      "TSLA    309.100006\n",
      "TSLA    316.529999\n",
      "TSLA    310.549988\n",
      "TSLA    313.559998\n",
      "TSLA    321.350006\n",
      "TSLA    325.600006\n",
      "TSLA    326.630005\n",
      "TSLA    341.839996\n",
      "TSLA    345.510010\n",
      "TSLA    327.170013\n",
      "TSLA    329.100006\n",
      "TSLA    332.299988\n",
      "TSLA    328.200012\n",
      "TSLA    333.350006\n",
      "TSLA    335.119995\n",
      "TSLA    330.929993\n",
      "TSLA    343.059998\n",
      "TSLA    350.989990\n",
      "           ...    \n",
      "TSLA     19.030001\n",
      "TSLA     19.600000\n",
      "TSLA     19.590000\n",
      "TSLA     20.450001\n",
      "TSLA     21.260000\n",
      "TSLA     21.950001\n",
      "TSLA     20.920000\n",
      "TSLA     19.940001\n",
      "TSLA     20.350000\n",
      "TSLA     20.719999\n",
      "TSLA     20.549999\n",
      "TSLA     20.950001\n",
      "TSLA     21.290001\n",
      "TSLA     21.000000\n",
      "TSLA     20.219999\n",
      "TSLA     20.299999\n",
      "TSLA     21.910000\n",
      "TSLA     20.639999\n",
      "TSLA     19.889999\n",
      "TSLA     19.840000\n",
      "TSLA     18.139999\n",
      "TSLA     17.049999\n",
      "TSLA     17.400000\n",
      "TSLA     17.459999\n",
      "TSLA     15.800000\n",
      "TSLA     16.110001\n",
      "TSLA     19.200001\n",
      "TSLA     21.959999\n",
      "TSLA     23.830000\n",
      "TSLA     23.889999\n",
      "Name: adjclose, Length: 1959, dtype: float64\n"
     ]
    }
   ],
   "source": [
    "print(df['adjclose'])"
   ]
  },
  {
   "cell_type": "code",
   "execution_count": 18,
   "metadata": {},
   "outputs": [
    {
     "name": "stdout",
     "output_type": "stream",
     "text": [
      "              open        high\n",
      "symbol                        \n",
      "TSLA    298.970001  307.100006\n",
      "TSLA    300.369995  309.500000\n",
      "TSLA    301.000000  309.279999\n",
      "TSLA    289.339996  306.260010\n",
      "TSLA    252.779999  288.369995\n"
     ]
    }
   ],
   "source": [
    "print(df[['open', 'high']].head())"
   ]
  },
  {
   "cell_type": "code",
   "execution_count": null,
   "metadata": {},
   "outputs": [],
   "source": []
  }
 ],
 "metadata": {
  "kernelspec": {
   "display_name": "Python 3",
   "language": "python",
   "name": "python3"
  },
  "language_info": {
   "codemirror_mode": {
    "name": "ipython",
    "version": 3
   },
   "file_extension": ".py",
   "mimetype": "text/x-python",
   "name": "python",
   "nbconvert_exporter": "python",
   "pygments_lexer": "ipython3",
   "version": "3.6.4"
  }
 },
 "nbformat": 4,
 "nbformat_minor": 2
}
