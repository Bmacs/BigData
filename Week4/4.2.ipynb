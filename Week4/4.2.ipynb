{
 "cells": [
  {
   "cell_type": "code",
   "execution_count": 1,
   "metadata": {},
   "outputs": [
    {
     "name": "stdout",
     "output_type": "stream",
     "text": [
      "env: MKL_THREADING_LAYER=GNU\n"
     ]
    }
   ],
   "source": [
    "%env MKL_THREADING_LAYER=GNU\n",
    "\n",
    "\n",
    "%matplotlib inline\n",
    "import numpy as np\n",
    "import pandas as pd\n",
    "import matplotlib.pylab as plt\n",
    "import seaborn as sns\n",
    "sns.set_context('notebook')\n",
    "\n",
    "RANDOM_SEED = 20090425"
   ]
  },
  {
   "cell_type": "code",
   "execution_count": 2,
   "metadata": {},
   "outputs": [],
   "source": [
    "try:\n",
    "    import pymc3\n",
    "except:\n",
    "    import pip\n",
    "    pip.main(['install', 'pymc3'])\n",
    "    import pymc3\n",
    "    \n",
    "from pymc3 import Poisson\n",
    "\n",
    "x = Poisson.dist(mu=1)"
   ]
  },
  {
   "cell_type": "code",
   "execution_count": 3,
   "metadata": {},
   "outputs": [],
   "source": [
    "samples = x.random(size=10000)"
   ]
  },
  {
   "cell_type": "code",
   "execution_count": 5,
   "metadata": {},
   "outputs": [
    {
     "data": {
      "text/plain": [
       "1.0185"
      ]
     },
     "execution_count": 5,
     "metadata": {},
     "output_type": "execute_result"
    }
   ],
   "source": [
    "samples.mean()"
   ]
  },
  {
   "cell_type": "code",
   "execution_count": 7,
   "metadata": {},
   "outputs": [
    {
     "data": {
      "image/png": "[encoded data removed]",
      "text/plain": [
       "<matplotlib.figure.Figure at 0x7f539cafa0b8>"
      ]
     },
     "metadata": {},
     "output_type": "display_data"
    }
   ],
   "source": [
    "plt.hist(samples, bins = len(set(samples)));"
   ]
  },
  {
   "cell_type": "code",
   "execution_count": 8,
   "metadata": {},
   "outputs": [],
   "source": [
    "from pymc3 import Normal\n",
    "\n",
    "y = Normal.dist(mu=-2, sd=4)\n",
    "samples = y.random(size=10000)"
   ]
  },
  {
   "cell_type": "code",
   "execution_count": 9,
   "metadata": {},
   "outputs": [
    {
     "data": {
      "text/plain": [
       "-2.0304266840239338"
      ]
     },
     "execution_count": 9,
     "metadata": {},
     "output_type": "execute_result"
    }
   ],
   "source": [
    "samples.mean()"
   ]
  },
  {
   "cell_type": "code",
   "execution_count": 10,
   "metadata": {},
   "outputs": [
    {
     "data": {
      "text/plain": [
       "4.0154011849746531"
      ]
     },
     "execution_count": 10,
     "metadata": {},
     "output_type": "execute_result"
    }
   ],
   "source": [
    "samples.std()"
   ]
  },
  {
   "cell_type": "code",
   "execution_count": 11,
   "metadata": {},
   "outputs": [
    {
     "data": {
      "text/plain": [
       "(array([   37.,   195.,   815.,  1992.,  2871.,  2393.,  1256.,   359.,\n",
       "           73.,     9.]),\n",
       " array([-15.88819295, -12.93455202,  -9.98091109,  -7.02727017,\n",
       "         -4.07362924,  -1.11998831,   1.83365262,   4.78729355,\n",
       "          7.74093448,  10.6945754 ,  13.64821633]),\n",
       " <a list of 10 Patch objects>)"
      ]
     },
     "execution_count": 11,
     "metadata": {},
     "output_type": "execute_result"
    },
    {
     "data": {
      "image/png": "[encoded data removed]",
      "text/plain": [
       "<matplotlib.figure.Figure at 0x7f5398e96710>"
      ]
     },
     "metadata": {},
     "output_type": "display_data"
    }
   ],
   "source": [
    "plt.hist(samples)"
   ]
  },
  {
   "cell_type": "code",
   "execution_count": 12,
   "metadata": {},
   "outputs": [],
   "source": [
    "radon = pd.read_csv('radon.csv', index_col=0)"
   ]
  },
  {
   "cell_type": "code",
   "execution_count": 13,
   "metadata": {},
   "outputs": [
    {
     "data": {
      "text/html": [
       "<div>\n",
       "<style scoped>\n",
       "    .dataframe tbody tr th:only-of-type {\n",
       "        vertical-align: middle;\n",
       "    }\n",
       "\n",
       "    .dataframe tbody tr th {\n",
       "        vertical-align: top;\n",
       "    }\n",
       "\n",
       "    .dataframe thead th {\n",
       "        text-align: right;\n",
       "    }\n",
       "</style>\n",
       "<table border=\"1\" class=\"dataframe\">\n",
       "  <thead>\n",
       "    <tr style=\"text-align: right;\">\n",
       "      <th></th>\n",
       "      <th>idnum</th>\n",
       "      <th>state</th>\n",
       "      <th>state2</th>\n",
       "      <th>stfips</th>\n",
       "      <th>zip</th>\n",
       "      <th>region</th>\n",
       "      <th>typebldg</th>\n",
       "      <th>floor</th>\n",
       "      <th>room</th>\n",
       "      <th>basement</th>\n",
       "      <th>...</th>\n",
       "      <th>pcterr</th>\n",
       "      <th>adjwt</th>\n",
       "      <th>dupflag</th>\n",
       "      <th>zipflag</th>\n",
       "      <th>cntyfips</th>\n",
       "      <th>county</th>\n",
       "      <th>fips</th>\n",
       "      <th>Uppm</th>\n",
       "      <th>county_code</th>\n",
       "      <th>log_radon</th>\n",
       "    </tr>\n",
       "  </thead>\n",
       "  <tbody>\n",
       "    <tr>\n",
       "      <th>0</th>\n",
       "      <td>5081.0</td>\n",
       "      <td>MN</td>\n",
       "      <td>MN</td>\n",
       "      <td>27.0</td>\n",
       "      <td>55735</td>\n",
       "      <td>5.0</td>\n",
       "      <td>1.0</td>\n",
       "      <td>1.0</td>\n",
       "      <td>3.0</td>\n",
       "      <td>N</td>\n",
       "      <td>...</td>\n",
       "      <td>9.7</td>\n",
       "      <td>1146.499190</td>\n",
       "      <td>1.0</td>\n",
       "      <td>0.0</td>\n",
       "      <td>1.0</td>\n",
       "      <td>AITKIN</td>\n",
       "      <td>27001.0</td>\n",
       "      <td>0.502054</td>\n",
       "      <td>0</td>\n",
       "      <td>0.832909</td>\n",
       "    </tr>\n",
       "    <tr>\n",
       "      <th>1</th>\n",
       "      <td>5082.0</td>\n",
       "      <td>MN</td>\n",
       "      <td>MN</td>\n",
       "      <td>27.0</td>\n",
       "      <td>55748</td>\n",
       "      <td>5.0</td>\n",
       "      <td>1.0</td>\n",
       "      <td>0.0</td>\n",
       "      <td>4.0</td>\n",
       "      <td>Y</td>\n",
       "      <td>...</td>\n",
       "      <td>14.5</td>\n",
       "      <td>471.366223</td>\n",
       "      <td>0.0</td>\n",
       "      <td>0.0</td>\n",
       "      <td>1.0</td>\n",
       "      <td>AITKIN</td>\n",
       "      <td>27001.0</td>\n",
       "      <td>0.502054</td>\n",
       "      <td>0</td>\n",
       "      <td>0.832909</td>\n",
       "    </tr>\n",
       "    <tr>\n",
       "      <th>2</th>\n",
       "      <td>5083.0</td>\n",
       "      <td>MN</td>\n",
       "      <td>MN</td>\n",
       "      <td>27.0</td>\n",
       "      <td>55748</td>\n",
       "      <td>5.0</td>\n",
       "      <td>1.0</td>\n",
       "      <td>0.0</td>\n",
       "      <td>4.0</td>\n",
       "      <td>Y</td>\n",
       "      <td>...</td>\n",
       "      <td>9.6</td>\n",
       "      <td>433.316718</td>\n",
       "      <td>0.0</td>\n",
       "      <td>0.0</td>\n",
       "      <td>1.0</td>\n",
       "      <td>AITKIN</td>\n",
       "      <td>27001.0</td>\n",
       "      <td>0.502054</td>\n",
       "      <td>0</td>\n",
       "      <td>1.098612</td>\n",
       "    </tr>\n",
       "    <tr>\n",
       "      <th>3</th>\n",
       "      <td>5084.0</td>\n",
       "      <td>MN</td>\n",
       "      <td>MN</td>\n",
       "      <td>27.0</td>\n",
       "      <td>56469</td>\n",
       "      <td>5.0</td>\n",
       "      <td>1.0</td>\n",
       "      <td>0.0</td>\n",
       "      <td>4.0</td>\n",
       "      <td>Y</td>\n",
       "      <td>...</td>\n",
       "      <td>24.3</td>\n",
       "      <td>461.623670</td>\n",
       "      <td>0.0</td>\n",
       "      <td>0.0</td>\n",
       "      <td>1.0</td>\n",
       "      <td>AITKIN</td>\n",
       "      <td>27001.0</td>\n",
       "      <td>0.502054</td>\n",
       "      <td>0</td>\n",
       "      <td>0.095310</td>\n",
       "    </tr>\n",
       "    <tr>\n",
       "      <th>4</th>\n",
       "      <td>5085.0</td>\n",
       "      <td>MN</td>\n",
       "      <td>MN</td>\n",
       "      <td>27.0</td>\n",
       "      <td>55011</td>\n",
       "      <td>3.0</td>\n",
       "      <td>1.0</td>\n",
       "      <td>0.0</td>\n",
       "      <td>4.0</td>\n",
       "      <td>Y</td>\n",
       "      <td>...</td>\n",
       "      <td>13.8</td>\n",
       "      <td>433.316718</td>\n",
       "      <td>0.0</td>\n",
       "      <td>0.0</td>\n",
       "      <td>3.0</td>\n",
       "      <td>ANOKA</td>\n",
       "      <td>27003.0</td>\n",
       "      <td>0.428565</td>\n",
       "      <td>1</td>\n",
       "      <td>1.163151</td>\n",
       "    </tr>\n",
       "  </tbody>\n",
       "</table>\n",
       "<p>5 rows × 29 columns</p>\n",
       "</div>"
      ],
      "text/plain": [
       "    idnum state state2  stfips    zip  region  typebldg  floor  room basement  \\\n",
       "0  5081.0    MN     MN    27.0  55735     5.0       1.0    1.0   3.0        N   \n",
       "1  5082.0    MN     MN    27.0  55748     5.0       1.0    0.0   4.0        Y   \n",
       "2  5083.0    MN     MN    27.0  55748     5.0       1.0    0.0   4.0        Y   \n",
       "3  5084.0    MN     MN    27.0  56469     5.0       1.0    0.0   4.0        Y   \n",
       "4  5085.0    MN     MN    27.0  55011     3.0       1.0    0.0   4.0        Y   \n",
       "\n",
       "     ...     pcterr        adjwt  dupflag  zipflag  cntyfips  county     fips  \\\n",
       "0    ...        9.7  1146.499190      1.0      0.0       1.0  AITKIN  27001.0   \n",
       "1    ...       14.5   471.366223      0.0      0.0       1.0  AITKIN  27001.0   \n",
       "2    ...        9.6   433.316718      0.0      0.0       1.0  AITKIN  27001.0   \n",
       "3    ...       24.3   461.623670      0.0      0.0       1.0  AITKIN  27001.0   \n",
       "4    ...       13.8   433.316718      0.0      0.0       3.0   ANOKA  27003.0   \n",
       "\n",
       "       Uppm  county_code  log_radon  \n",
       "0  0.502054            0   0.832909  \n",
       "1  0.502054            0   0.832909  \n",
       "2  0.502054            0   1.098612  \n",
       "3  0.502054            0   0.095310  \n",
       "4  0.428565            1   1.163151  \n",
       "\n",
       "[5 rows x 29 columns]"
      ]
     },
     "execution_count": 13,
     "metadata": {},
     "output_type": "execute_result"
    }
   ],
   "source": [
    "radon.head()"
   ]
  },
  {
   "cell_type": "code",
   "execution_count": 15,
   "metadata": {},
   "outputs": [
    {
     "data": {
      "text/plain": [
       "<matplotlib.axes._subplots.AxesSubplot at 0x7f53976530b8>"
      ]
     },
     "execution_count": 15,
     "metadata": {},
     "output_type": "execute_result"
    },
    {
     "data": {
      "image/png": "[encoded data removed]",
      "text/plain": [
       "<matplotlib.figure.Figure at 0x7f53973908d0>"
      ]
     },
     "metadata": {},
     "output_type": "display_data"
    }
   ],
   "source": [
    "hennepin_radon = radon.query('county==\"HENNEPIN\"').log_radon\n",
    "sns.distplot(hennepin_radon)"
   ]
  },
  {
   "cell_type": "code",
   "execution_count": 16,
   "metadata": {},
   "outputs": [
    {
     "data": {
      "text/plain": [
       "(105,)"
      ]
     },
     "execution_count": 16,
     "metadata": {},
     "output_type": "execute_result"
    }
   ],
   "source": [
    "hennepin_radon.shape"
   ]
  },
  {
   "cell_type": "code",
   "execution_count": 17,
   "metadata": {},
   "outputs": [],
   "source": [
    "from pymc3 import Model, Uniform\n",
    "\n",
    "with Model() as radon_model:\n",
    "    u = Normal('u', mu=0, sd=10)\n",
    "    o = Uniform('o', 0, 10)"
   ]
  },
  {
   "cell_type": "code",
   "execution_count": 18,
   "metadata": {},
   "outputs": [],
   "source": [
    "with radon_model:\n",
    "    y = Normal('y', mu=u, sd=o, observed=hennepin_radon)"
   ]
  },
  {
   "cell_type": "code",
   "execution_count": 19,
   "metadata": {},
   "outputs": [
    {
     "name": "stderr",
     "output_type": "stream",
     "text": [
      "Average Loss = 136.32: 100%|██████████| 10000/10000 [00:02<00:00, 4283.25it/s]\n",
      "Finished [100%]: Average Loss = 136.28\n"
     ]
    }
   ],
   "source": [
    "from pymc3 import fit\n",
    "with radon_model:\n",
    "    samples = fit(random_seed=RANDOM_SEED).sample(1000)"
   ]
  },
  {
   "cell_type": "code",
   "execution_count": 20,
   "metadata": {},
   "outputs": [
    {
     "data": {
      "text/plain": [
       "<matplotlib.axes._subplots.AxesSubplot at 0x7f538fb8ceb8>"
      ]
     },
     "execution_count": 20,
     "metadata": {},
     "output_type": "execute_result"
    },
    {
     "data": {
      "image/png": "[encoded data removed]",
      "text/plain": [
       "<matplotlib.figure.Figure at 0x7f538fb8c828>"
      ]
     },
     "metadata": {},
     "output_type": "display_data"
    }
   ],
   "source": [
    "from pymc3 import plot_posterior\n",
    "\n",
    "plot_posterior(samples, varnames=['u'], ref_val=np.log(4), color='LightSeaGreen')"
   ]
  },
  {
   "cell_type": "code",
   "execution_count": 21,
   "metadata": {},
   "outputs": [
    {
     "data": {
      "text/plain": [
       "array([ 1.53131507,  1.56109105,  1.72234075,  1.13420831,  1.49800077,\n",
       "        1.09247596,  1.55106252,  1.13013325,  1.14491412,  1.06217339,\n",
       "        1.28163899,  1.00952043,  1.21003981,  1.18211037,  1.38445231,\n",
       "        1.07691127,  1.24214706,  1.10377994,  1.38687618,  1.76345766,\n",
       "        1.31530154,  0.90453827,  1.01818578,  1.48130426,  1.29352035,\n",
       "        1.02859088,  1.29412141,  1.20021434,  0.80169626,  1.18607294,\n",
       "        1.00635498,  0.86834761,  1.07085746,  1.04970186,  1.13974038,\n",
       "        1.53602917,  1.73102087,  2.30512882,  1.39807538,  1.69072625,\n",
       "        1.36551644,  1.26956056,  1.68738876,  1.51241919,  1.06341051,\n",
       "        1.45417002,  1.52825656,  1.3529094 ,  1.27644388,  1.22694071,\n",
       "        1.54603076,  1.03815693,  1.25396186,  1.48387023,  1.54661269,\n",
       "        1.34727844,  0.92606102,  1.12887726,  1.40241216,  1.34276523,\n",
       "        1.20281482,  2.02665289,  1.26176568,  1.59512887,  1.09456703,\n",
       "        1.43280779,  1.15409063,  1.11752027,  0.51574104,  1.69944917,\n",
       "        1.54371147,  1.21695355,  1.33468758,  1.43211511,  0.82584529,\n",
       "        1.70740462,  1.41970146,  1.23476451,  1.50843032,  0.86526963,\n",
       "        1.65574642,  1.68140664,  1.05292666,  1.09394758,  0.99122619,\n",
       "        0.91282948,  1.06946403,  1.4095358 ,  1.18058398,  1.6861297 ,\n",
       "        1.06143772,  1.63554896,  1.04100094,  1.01720701,  1.17600431,\n",
       "        1.16888894,  1.54564051,  1.66277663,  1.03761192,  1.67042049,\n",
       "        1.42531374,  1.48635983,  1.37409493,  1.54739141,  1.44420122,\n",
       "        1.47488342,  1.10270575,  1.8415245 ,  1.332551  ,  1.22806102,\n",
       "        1.78320505,  0.93472006,  1.57287472,  0.92002014,  1.50368607,\n",
       "        1.81817241,  1.26498452,  0.99550179,  1.24698574,  0.9003585 ,\n",
       "        1.53844072,  1.48336145,  0.90671599,  1.15769804,  1.14650028,\n",
       "        1.37918608,  1.26384604,  1.23056244,  1.68926692,  1.15070446,\n",
       "        1.28470205,  1.25133554,  0.92090023,  1.08687679,  1.4226514 ,\n",
       "        1.25735942,  1.33391365,  1.09378615,  1.18355583,  1.46947455,\n",
       "        1.37496158,  1.00518878,  1.59796215,  0.79826712,  1.22141498,\n",
       "        1.29851542,  1.32035299,  1.09393129,  1.08524892,  1.71819866,\n",
       "        1.6463522 ,  1.64050184,  1.45569028,  1.22698048,  1.12086984,\n",
       "        1.47989786,  0.96936969,  1.31361924,  1.31715419,  1.94311413,\n",
       "        1.11834743,  1.44910108,  1.22090137,  1.36364699,  1.10847094,\n",
       "        1.57600452,  0.91102085,  1.35012756,  1.56560713,  1.26573846,\n",
       "        1.13395005,  1.45370582,  1.71281238,  1.3380016 ,  1.19242667,\n",
       "        0.96537403,  0.83326281,  1.4016738 ,  1.31012653,  1.32967431,\n",
       "        1.10819927,  1.47646186,  1.42512008,  0.96014349,  1.4123663 ,\n",
       "        1.13965752,  0.9348499 ,  1.5835535 ,  1.18109937,  1.32406403,\n",
       "        0.86584925,  1.47549936,  1.47769336,  1.20732597,  1.68861007,\n",
       "        1.46348326,  1.34119859,  1.6162813 ,  1.22690105,  1.20364735,\n",
       "        1.08428762,  1.32110296,  1.42606196,  1.20817434,  1.33983737,\n",
       "        1.43528693,  1.27799744,  1.18362503,  1.58381644,  1.34315216,\n",
       "        1.52341637,  1.3573232 ,  1.07997322,  1.07878973,  1.41927209,\n",
       "        1.35842987,  1.75137621,  1.40742407,  1.40847391,  1.78424096,\n",
       "        1.17979788,  1.05477311,  1.40526143,  1.2543627 ,  1.38471503,\n",
       "        1.41451999,  1.97614374,  1.60806892,  1.10273937,  1.52614266,\n",
       "        0.8319617 ,  1.45275473,  1.29018473,  1.24809058,  1.33946131,\n",
       "        1.3903217 ,  1.51249089,  1.27091243,  1.22682409,  1.41058532,\n",
       "        1.31117442,  1.54589878,  1.48078115,  1.47306509,  1.03794752,\n",
       "        1.3095964 ,  1.36366148,  1.09183214,  1.04206942,  1.49733574,\n",
       "        1.31655931,  0.95567729,  1.14389326,  1.44287143,  1.73475826,\n",
       "        0.99269331,  1.06224502,  1.06796351,  1.36400198,  1.00875717,\n",
       "        1.30795629,  1.02944781,  1.26416282,  0.95899205,  1.36081825,\n",
       "        1.32172363,  1.42425864,  1.11479793,  1.29048483,  1.47147101,\n",
       "        1.46699249,  1.52413724,  1.21695435,  0.89453488,  1.64439507,\n",
       "        1.21603047,  1.15166822,  1.28074233,  1.04297313,  0.87103963,\n",
       "        1.46763171,  1.37168696,  1.1656237 ,  1.70314645,  1.08093319,\n",
       "        1.18637873,  1.46524502,  1.52164142,  1.38229371,  1.35517464,\n",
       "        1.01698405,  1.67466312,  1.40182117,  1.52709897,  1.61718766,\n",
       "        1.12441224,  1.31102068,  1.4739315 ,  0.99315428,  1.2615889 ,\n",
       "        1.59493356,  1.29795092,  1.21317934,  1.09835113,  1.4905789 ,\n",
       "        1.50789324,  1.3301475 ,  0.87693505,  1.57546305,  1.44981356,\n",
       "        1.50339396,  0.93986331,  1.14646744,  1.11234741,  1.23203694,\n",
       "        1.4152111 ,  1.26591246,  1.18361081,  1.39899183,  1.31054655,\n",
       "        1.2514892 ,  1.42384877,  1.33428827,  1.52743189,  0.95532141,\n",
       "        1.4744909 ,  1.15761305,  1.18452228,  1.58478015,  1.18843556,\n",
       "        1.19525968,  1.49160136,  1.04977216,  1.45492982,  1.43127238,\n",
       "        1.22011229,  1.44398153,  1.15301938,  1.50561783,  1.6308571 ,\n",
       "        1.15845391,  1.68643523,  1.16647329,  0.86002328,  1.26737921,\n",
       "        1.07267515,  1.52322367,  1.78972996,  1.29459297,  1.27170315,\n",
       "        1.78494137,  1.19671826,  1.20827661,  1.21466268,  1.2021298 ,\n",
       "        0.79138218,  0.92949365,  0.97407172,  1.31463619,  1.25725687,\n",
       "        1.29656996,  0.88340102,  1.12851376,  1.21610339,  1.7760372 ,\n",
       "        1.78264627,  1.37418594,  1.05256042,  1.01365603,  1.55080987,\n",
       "        1.84785309,  1.37591517,  1.51709387,  1.26462511,  1.21069346,\n",
       "        1.40574442,  1.36022081,  1.46364275,  1.47148913,  1.30384494,\n",
       "        1.2846924 ,  1.65021381,  1.5952169 ,  1.15507202,  1.33507805,\n",
       "        1.1266353 ,  1.12410983,  1.23311783,  1.10193268,  1.66854999,\n",
       "        1.73065946,  1.1749545 ,  1.15832832,  0.79111305,  1.26855978,\n",
       "        0.98282028,  1.61898316,  1.32523869,  1.27245007,  0.6649795 ,\n",
       "        1.43997726,  1.38844401,  1.68130283,  1.033978  ,  1.09575952,\n",
       "        1.08649916,  0.98874303,  1.42599006,  1.12775302,  1.55957864,\n",
       "        1.05604006,  0.83029315,  1.08589322,  0.79636291,  1.52597697,\n",
       "        1.2845769 ,  0.93407667,  1.38064079,  1.49908602,  1.40682947,\n",
       "        1.23475206,  1.16432709,  1.40932749,  1.67695857,  1.14686057,\n",
       "        1.26320835,  1.69627899,  1.23087158,  1.20198755,  1.30390571,\n",
       "        1.5353067 ,  1.37860365,  1.54258669,  1.36337308,  1.48743053,\n",
       "        1.00453148,  0.97563006,  1.00932057,  1.75103175,  1.1820599 ,\n",
       "        1.47049173,  1.34785798,  1.3420597 ,  1.08608413,  1.51420448,\n",
       "        1.72293688,  1.57163971,  1.55499202,  1.43597948,  1.08018699,\n",
       "        1.77075913,  1.1164648 ,  1.42947984,  1.57544544,  0.892125  ,\n",
       "        1.13726521,  1.34812728,  1.12059198,  1.41320234,  1.48134806,\n",
       "        1.70411512,  1.38339199,  1.50454527,  1.28802571,  0.96785182,\n",
       "        1.06886038,  1.77845206,  1.50777714,  0.85509215,  1.44149988,\n",
       "        0.82146573,  1.2051257 ,  1.17449395,  1.19604093,  1.48299523,\n",
       "        1.0433804 ,  1.5023661 ,  0.99410833,  1.4280507 ,  1.34103326,\n",
       "        1.20492757,  1.32372171,  1.74721682,  1.46593441,  1.15647545,\n",
       "        0.88251314,  1.62806857,  1.00467992,  1.39201297,  1.4171144 ,\n",
       "        1.52498958,  1.71294403,  1.11180485,  1.07258386,  1.288197  ,\n",
       "        1.35330229,  0.93589951,  1.37997553,  1.0507579 ,  1.18151815,\n",
       "        1.39384668,  1.43107927,  1.39802063,  1.7665481 ,  1.27766329,\n",
       "        1.60939189,  1.4255674 ,  1.28348347,  1.28924171,  1.33282951,\n",
       "        1.05865799,  1.15589187,  1.11009063,  1.53147635,  1.41395049,\n",
       "        1.56168447,  1.57038851,  1.21893933,  1.34920962,  1.77943411,\n",
       "        1.23114341,  0.96035794,  1.47076414,  1.12648211,  1.19756934,\n",
       "        0.97712969,  1.50979319,  0.8444725 ,  1.32448784,  1.26842912,\n",
       "        1.03994296,  1.91002793,  1.34839599,  1.7867446 ,  1.32068616,\n",
       "        1.38443234,  1.44220261,  1.47361022,  1.26495105,  1.38853389,\n",
       "        1.16951387,  0.58529539,  1.13240226,  1.09379393,  1.05311028,\n",
       "        1.22053218,  1.30045764,  1.11908283,  1.37230077,  1.12566961,\n",
       "        1.71814724,  1.76051846,  1.29433121,  1.52477066,  1.39988321,\n",
       "        1.50568683,  1.44419845,  1.39783457,  1.14281013,  1.30653715,\n",
       "        1.38854961,  1.03738786,  1.03583667,  0.99218578,  0.59121862,\n",
       "        1.41776573,  1.41651688,  1.64534853,  1.64403256,  1.41340534,\n",
       "        1.06818562,  1.69304608,  1.18859928,  1.18252464,  0.71313443,\n",
       "        1.45502447,  1.14221633,  1.4939714 ,  1.61555794,  0.96069344,\n",
       "        1.33154008,  1.31627124,  1.56837275,  1.03733942,  0.86318525,\n",
       "        1.04680841,  1.23901926,  1.54278529,  1.20627515,  1.79567484,\n",
       "        1.35665101,  0.9572077 ,  1.21462502,  1.68607811,  1.50419564,\n",
       "        1.11441076,  1.21397251,  0.59864362,  0.86359539,  1.04786816,\n",
       "        1.2498858 ,  1.26590165,  1.56818973,  1.28348878,  1.00348382,\n",
       "        1.57116937,  0.64679475,  0.93694366,  1.43786696,  1.54587721,\n",
       "        1.37825016,  1.37153715,  1.51262697,  1.4065857 ,  0.61851571,\n",
       "        1.0642714 ,  1.20324414,  0.80637233,  1.19559932,  1.41937218,\n",
       "        1.07423006,  1.37719648,  1.21989316,  0.92858883,  1.31917762,\n",
       "        1.35759357,  1.24064365,  1.45409788,  1.24146975,  1.53763571,\n",
       "        1.29500869,  1.36936325,  1.20208732,  1.29561298,  1.12181882,\n",
       "        1.73615495,  1.35688855,  0.96678085,  1.63238687,  1.53830334,\n",
       "        1.646468  ,  1.38248004,  1.44423106,  1.61080259,  1.02856676,\n",
       "        1.27308925,  1.33959186,  1.17630704,  1.2062223 ,  1.20155615,\n",
       "        1.49783305,  1.44746759,  1.32540167,  1.00319214,  1.39484222,\n",
       "        1.16361726,  1.45764984,  1.08154865,  1.47490157,  0.98468067,\n",
       "        1.35513352,  1.24716897,  1.50017301,  1.07979529,  1.39841352,\n",
       "        1.35353893,  1.20188927,  1.18459298,  1.00162074,  1.43109254,\n",
       "        1.59937565,  1.49696905,  1.49410491,  1.15006119,  1.09474642,\n",
       "        1.23627142,  1.29235624,  0.83398013,  1.28847316,  1.66361273,\n",
       "        1.54842321,  1.67862278,  1.18230644,  1.14912157,  1.37123185,\n",
       "        1.09655634,  1.40641368,  0.98469141,  1.1149198 ,  0.86413021,\n",
       "        1.28054899,  0.93191994,  1.06561299,  0.94770927,  1.52731181,\n",
       "        1.30671503,  1.75297643,  0.89660854,  1.13649935,  1.24446243,\n",
       "        1.36650673,  1.09870412,  1.38539121,  1.3221707 ,  1.63846451,\n",
       "        1.22753009,  1.19264102,  1.48611546,  1.65543848,  1.54402278,\n",
       "        1.15793111,  1.68537369,  1.48298325,  1.38070075,  0.9556834 ,\n",
       "        1.24077501,  1.16673647,  1.44152968,  1.53623479,  1.13394563,\n",
       "        1.67842042,  1.0704582 ,  1.57875482,  1.37925158,  1.46718232,\n",
       "        1.20109328,  1.38324474,  1.49761529,  1.36413989,  1.17628274,\n",
       "        0.92727681,  1.0450831 ,  1.42907435,  1.63094165,  1.11950751,\n",
       "        1.68827758,  1.4871079 ,  1.42680757,  1.35485795,  1.26348588,\n",
       "        1.38837133,  1.58191776,  1.43746517,  1.38674119,  1.30056958,\n",
       "        1.31015766,  1.3489259 ,  1.06161081,  0.82700117,  0.81837566,\n",
       "        0.83326729,  1.12728816,  1.17437278,  1.1069754 ,  1.20255772,\n",
       "        1.03890291,  1.27446693,  1.34532738,  1.03409475,  1.03605564,\n",
       "        0.65311848,  1.37961791,  1.26897952,  0.86687005,  1.38186171,\n",
       "        0.99728517,  0.75698571,  1.33421504,  1.38946282,  1.37101764,\n",
       "        1.56151395,  1.65015389,  0.68885888,  1.55140259,  1.328496  ,\n",
       "        1.48237234,  1.38795909,  1.34654564,  1.07329086,  1.3132473 ,\n",
       "        1.86859757,  1.53728391,  0.98062142,  1.52651955,  1.42577111,\n",
       "        1.21669896,  1.20694709,  1.52154279,  1.08009215,  1.49581725,\n",
       "        1.37983474,  1.25470039,  1.00545963,  1.37213625,  1.01108561,\n",
       "        1.24509061,  1.25054816,  1.35812258,  1.40926234,  1.31756322,\n",
       "        1.27487839,  1.31138583,  1.17743374,  0.90930335,  1.17079423,\n",
       "        1.19291733,  1.2028105 ,  1.5800617 ,  1.20674173,  0.78036759,\n",
       "        0.98637773,  1.5053193 ,  1.42811508,  1.38423341,  1.08316524,\n",
       "        1.51022785,  1.36493044,  1.67081269,  1.48794072,  1.39987998,\n",
       "        1.31390155,  1.73010944,  0.97923419,  1.46646852,  1.63136567,\n",
       "        1.4968539 ,  0.94202713,  1.16710349,  1.45573402,  1.44206632,\n",
       "        1.41698194,  0.88268796,  1.16797975,  1.36391808,  1.73417901,\n",
       "        1.59334478,  1.27348633,  1.29288508,  1.35555246,  0.9311098 ,\n",
       "        1.55750682,  1.45685065,  1.23773122,  1.04890429,  1.49975169,\n",
       "        1.49258569,  1.24584748,  1.03879452,  1.20897694,  1.83622064,\n",
       "        1.3587634 ,  1.53410562,  1.05001694,  1.17566176,  1.37756886,\n",
       "        1.57252923,  1.19567948,  1.10909522,  1.32452738,  0.96064803,\n",
       "        1.55260961,  1.15872126,  1.23479923,  1.37339623,  1.57546748,\n",
       "        1.51973478,  1.0372742 ,  1.39959145,  1.26807709,  1.07629683,\n",
       "        1.08046077,  1.20725589,  1.28265156,  1.0488479 ,  1.72176297,\n",
       "        1.50977126,  1.00852044,  1.49923605,  1.42078304,  1.1019488 ,\n",
       "        1.31410236,  1.4027171 ,  1.36701457,  1.06245591,  1.17918722,\n",
       "        1.58657829,  1.35624332,  1.36531466,  1.47156507,  1.63070352,\n",
       "        1.64737925,  1.31887731,  0.87350842,  1.24916635,  1.36475019,\n",
       "        1.09652147,  1.38537218,  1.06830821,  1.26475931,  1.43491838,\n",
       "        1.51675086,  1.53782027,  1.73646975,  1.25818565,  1.04474048,\n",
       "        1.14281548,  1.26512763,  1.21322786,  1.61913917,  1.05733783,\n",
       "        1.53463851,  1.27891643,  0.89373405,  1.42771082,  1.06109467,\n",
       "        1.25535859,  1.18415583,  0.66654663,  1.22105204,  1.2896763 ,\n",
       "        1.40363736,  1.13223066,  1.28542653,  1.03170401,  0.87219815,\n",
       "        1.39018096,  1.33702085,  1.7310353 ,  1.02137423,  1.52259976,\n",
       "        1.35357383,  1.03107793,  1.42220111,  1.05230095,  1.25317438,\n",
       "        1.32635239,  1.26704278,  1.4788694 ,  1.35024411,  1.44760947,\n",
       "        1.25135118,  1.41425896,  1.63120098,  1.23476077,  1.56433186,\n",
       "        1.57172459,  1.23583153,  1.40977906,  1.08151012,  1.38833588,\n",
       "        1.09821171,  1.11357726,  1.12725094,  1.19238202,  1.53636776,\n",
       "        1.67589715,  1.18914916,  1.4210594 ,  1.67867768,  1.28601385,\n",
       "        1.63766662,  0.98988768,  1.61428373,  1.30951399,  1.22954428,\n",
       "        1.3390742 ,  1.16523155,  1.40224641,  1.3474805 ,  1.35897135,\n",
       "        1.21937128,  1.31334059,  1.32961783,  1.24502122,  1.37518661,\n",
       "        1.0276272 ,  1.48050762,  1.48070444,  1.00543011,  1.33966616,\n",
       "        1.24585706,  1.29365811,  1.14630067,  1.72582374,  1.43316832,\n",
       "        1.22718311,  0.66525683,  1.32014658,  1.34030349,  1.45719747,\n",
       "        0.7206477 ,  1.37912352,  1.05119734,  1.36424916,  0.95491639,\n",
       "        1.7716302 ,  1.5229974 ,  1.21494219,  1.48784472,  0.95023659])"
      ]
     },
     "execution_count": 21,
     "metadata": {},
     "output_type": "execute_result"
    }
   ],
   "source": [
    "mus = samples['u']\n",
    "sigmas = samples['o']\n",
    "mus"
   ]
  },
  {
   "cell_type": "code",
   "execution_count": 22,
   "metadata": {},
   "outputs": [],
   "source": [
    "radon_samples = Normal.dist(mus, sigmas).random()"
   ]
  },
  {
   "cell_type": "code",
   "execution_count": 23,
   "metadata": {},
   "outputs": [
    {
     "data": {
      "text/plain": [
       "0.44500000000000001"
      ]
     },
     "execution_count": 23,
     "metadata": {},
     "output_type": "execute_result"
    }
   ],
   "source": [
    "(radon_samples > np.log(4)).mean()"
   ]
  },
  {
   "cell_type": "code",
   "execution_count": 24,
   "metadata": {},
   "outputs": [
    {
     "data": {
      "text/plain": [
       "<matplotlib.legend.Legend at 0x7f538ed15a58>"
      ]
     },
     "execution_count": 24,
     "metadata": {},
     "output_type": "execute_result"
    },
    {
     "data": {
      "image/png": "[encoded data removed]",
      "text/plain": [
       "<matplotlib.figure.Figure at 0x7f537fe8d518>"
      ]
     },
     "metadata": {},
     "output_type": "display_data"
    }
   ],
   "source": [
    "sns.distplot(radon_samples, label='simulated')\n",
    "sns.distplot(hennepin_radon, label='observed')\n",
    "plt.legend()"
   ]
  },
  {
   "cell_type": "code",
   "execution_count": 26,
   "metadata": {},
   "outputs": [
    {
     "name": "stderr",
     "output_type": "stream",
     "text": [
      "Average Loss = 123.98: 100%|██████████| 10000/10000 [00:02<00:00, 4582.37it/s]\n",
      "Finished [100%]: Average Loss = 123.94\n"
     ]
    }
   ],
   "source": [
    "from pymc3 import Flat, HalfCauchy\n",
    "\n",
    "with Model() as prior_sensitivity:\n",
    "    u = Flat('u')\n",
    "    o = HalfCauchy('o', 5)\n",
    "    dist = Normal('dist', mu=u, sd=o, observed = hennepin_radon)\n",
    "    \n",
    "    sensitivity_samples = fit(random_seed=RANDOM_SEED).sample(1000)"
   ]
  },
  {
   "cell_type": "code",
   "execution_count": 28,
   "metadata": {},
   "outputs": [
    {
     "data": {
      "text/plain": [
       "<matplotlib.axes._subplots.AxesSubplot at 0x7f537df30e10>"
      ]
     },
     "execution_count": 28,
     "metadata": {},
     "output_type": "execute_result"
    },
    {
     "data": {
      "image/png": "[encoded data removed]",
      "text/plain": [
       "<matplotlib.figure.Figure at 0x7f537df305f8>"
      ]
     },
     "metadata": {},
     "output_type": "display_data"
    }
   ],
   "source": [
    "plot_posterior(sensitivity_samples, varnames=['u'], ref_val=np.log(4), color='LightSeaGreen')"
   ]
  },
  {
   "cell_type": "code",
   "execution_count": 29,
   "metadata": {},
   "outputs": [
    {
     "data": {
      "text/plain": [
       "<matplotlib.axes._subplots.AxesSubplot at 0x7f537dcec278>"
      ]
     },
     "execution_count": 29,
     "metadata": {},
     "output_type": "execute_result"
    },
    {
     "data": {
      "image/png": "[encoded data removed]",
      "text/plain": [
       "<matplotlib.figure.Figure at 0x7f537dce77b8>"
      ]
     },
     "metadata": {},
     "output_type": "display_data"
    }
   ],
   "source": [
    "plot_posterior(samples, varnames=['u'], ref_val=np.log(4), color='LightSeaGreen')"
   ]
  },
  {
   "cell_type": "code",
   "execution_count": 30,
   "metadata": {},
   "outputs": [],
   "source": [
    "drug = pd.DataFrame(dict(iq=(101,100,102,104,102,97,105,105,98,101,100,123,105,103,100,95,102,100,109,102,82,102,100,102,102,101,102,102,103,103,97,97,103,101,97,104,96,103,124,101,101,100,101,101,104,100,101), groups='drug'))"
   ]
  },
  {
   "cell_type": "code",
   "execution_count": 31,
   "metadata": {},
   "outputs": [],
   "source": [
    "placebo = pd.DataFrame(dict(iq=(99,101,100,101,102,100,97,101,104,101,102,102,100,105,88,101,100,104,100,100,100,101,102,103,97,101,101,100,101,99,101,100,100,101,100,99,101,100,102,99,100,99), groups='placebo'))"
   ]
  },
  {
   "cell_type": "code",
   "execution_count": 32,
   "metadata": {},
   "outputs": [],
   "source": [
    "trial_data = pd.concat([drug,placebo], ignore_index=True)"
   ]
  },
  {
   "cell_type": "code",
   "execution_count": 33,
   "metadata": {},
   "outputs": [
    {
     "data": {
      "text/plain": [
       "array([<matplotlib.axes._subplots.AxesSubplot object at 0x7f537e3bf358>,\n",
       "       <matplotlib.axes._subplots.AxesSubplot object at 0x7f537e7f9d30>], dtype=object)"
      ]
     },
     "execution_count": 33,
     "metadata": {},
     "output_type": "execute_result"
    },
    {
     "data": {
      "image/png": "[encoded data removed]",
      "text/plain": [
       "<matplotlib.figure.Figure at 0x7f537de9a630>"
      ]
     },
     "metadata": {},
     "output_type": "display_data"
    }
   ],
   "source": [
    "trial_data.hist('iq', by = 'groups')"
   ]
  },
  {
   "cell_type": "code",
   "execution_count": 34,
   "metadata": {},
   "outputs": [],
   "source": [
    "from pymc3 import StudentT"
   ]
  },
  {
   "cell_type": "code",
   "execution_count": 35,
   "metadata": {},
   "outputs": [],
   "source": [
    "t = StudentT.dist(nu=3).random(size=10000)\n",
    "n = Normal.dist(0,1).random(size=10000)"
   ]
  },
  {
   "cell_type": "code",
   "execution_count": 36,
   "metadata": {},
   "outputs": [
    {
     "data": {
      "text/plain": [
       "(-10, 10)"
      ]
     },
     "execution_count": 36,
     "metadata": {},
     "output_type": "execute_result"
    },
    {
     "data": {
      "image/png": "[encoded data removed]",
      "text/plain": [
       "<matplotlib.figure.Figure at 0x7f537ed04390>"
      ]
     },
     "metadata": {},
     "output_type": "display_data"
    }
   ],
   "source": [
    "sns.distplot(t, label='Student-T')\n",
    "sns.distplot(n, label='Normal')\n",
    "plt.legend()\n",
    "plt.xlim(-10,10)"
   ]
  },
  {
   "cell_type": "code",
   "execution_count": 37,
   "metadata": {},
   "outputs": [],
   "source": [
    "with Model() as drug_model:\n",
    "    u_0 = Normal('u_0', 100, sd=10)\n",
    "    u_1 = Normal('u_1', 100, sd=10)"
   ]
  },
  {
   "cell_type": "code",
   "execution_count": 38,
   "metadata": {},
   "outputs": [],
   "source": [
    "with drug_model:\n",
    "    o_0 = Uniform('o_0', lower=0, upper=20)\n",
    "    o_1 = Uniform('o_1', lower=0, upper=20)"
   ]
  },
  {
   "cell_type": "code",
   "execution_count": 39,
   "metadata": {},
   "outputs": [],
   "source": [
    "from pymc3 import Exponential\n",
    "\n",
    "with drug_model:\n",
    "    v = Exponential('v_minus_one', 1/29.) + 1"
   ]
  },
  {
   "cell_type": "code",
   "execution_count": 40,
   "metadata": {},
   "outputs": [
    {
     "data": {
      "text/plain": [
       "<matplotlib.axes._subplots.AxesSubplot at 0x7f538e5706a0>"
      ]
     },
     "execution_count": 40,
     "metadata": {},
     "output_type": "execute_result"
    },
    {
     "data": {
      "image/png": "[encoded data removed]",
      "text/plain": [
       "<matplotlib.figure.Figure at 0x7f538e41f588>"
      ]
     },
     "metadata": {},
     "output_type": "display_data"
    }
   ],
   "source": [
    "sns.distplot(Exponential.dist(1/29).random(size=10000), kde=False)"
   ]
  },
  {
   "cell_type": "code",
   "execution_count": 41,
   "metadata": {},
   "outputs": [],
   "source": [
    "from pymc3 import StudentT\n",
    "\n",
    "with drug_model:\n",
    "    drug_like = StudentT('drug_like', nu=v, mu=u_1, lam=o_1**-2, observed = drug.iq)\n",
    "    placebo_like = StudentT('placebo_like', nu=v, mu=u_0, lam=o_0**-2, observed=placebo.iq)"
   ]
  },
  {
   "cell_type": "code",
   "execution_count": 42,
   "metadata": {},
   "outputs": [],
   "source": [
    "from pymc3 import Deterministic\n",
    "\n",
    "with drug_model:\n",
    "    diff_of_means = Deterministic('difference of means', u_1 - u_0)\n",
    "    effect_size = Deterministic('effect size', diff_of_means / np.sqrt((o_1**2 + o_0**2) / 2))"
   ]
  },
  {
   "cell_type": "code",
   "execution_count": 43,
   "metadata": {},
   "outputs": [
    {
     "name": "stderr",
     "output_type": "stream",
     "text": [
      "Average Loss = 243.4: 100%|██████████| 10000/10000 [00:03<00:00, 3171.46it/s]\n",
      "Finished [100%]: Average Loss = 243.3\n"
     ]
    }
   ],
   "source": [
    "with drug_model:\n",
    "    drug_trace = fit(random_seed=RANDOM_SEED).sample(1000)"
   ]
  },
  {
   "cell_type": "code",
   "execution_count": 44,
   "metadata": {},
   "outputs": [
    {
     "data": {
      "text/plain": [
       "array([<matplotlib.axes._subplots.AxesSubplot object at 0x7f5378d2b320>,\n",
       "       <matplotlib.axes._subplots.AxesSubplot object at 0x7f5378cd2d30>,\n",
       "       <matplotlib.axes._subplots.AxesSubplot object at 0x7f5378c7e0f0>,\n",
       "       <matplotlib.axes._subplots.AxesSubplot object at 0x7f5378ca7dd8>,\n",
       "       <matplotlib.axes._subplots.AxesSubplot object at 0x7f5378c61908>], dtype=object)"
      ]
     },
     "execution_count": 44,
     "metadata": {},
     "output_type": "execute_result"
    },
    {
     "data": {
      "image/png": "[encoded data removed]",
      "text/plain": [
       "<matplotlib.figure.Figure at 0x7f5378d27048>"
      ]
     },
     "metadata": {},
     "output_type": "display_data"
    }
   ],
   "source": [
    "plot_posterior(drug_trace[100:], varnames=['u_0', 'u_1', 'o_0', 'o_1', 'v_minus_one'], color='#87ceeb')"
   ]
  },
  {
   "cell_type": "code",
   "execution_count": 45,
   "metadata": {},
   "outputs": [
    {
     "data": {
      "text/plain": [
       "array([<matplotlib.axes._subplots.AxesSubplot object at 0x7f537895cef0>,\n",
       "       <matplotlib.axes._subplots.AxesSubplot object at 0x7f53789995f8>], dtype=object)"
      ]
     },
     "execution_count": 45,
     "metadata": {},
     "output_type": "execute_result"
    },
    {
     "data": {
      "image/png": "[encoded data removed]",
      "text/plain": [
       "<matplotlib.figure.Figure at 0x7f5378960128>"
      ]
     },
     "metadata": {},
     "output_type": "display_data"
    }
   ],
   "source": [
    "plot_posterior(drug_trace[100:], varnames=['difference of means', 'effect size'], ref_val = 0, color='#87ceeb')"
   ]
  },
  {
   "cell_type": "code",
   "execution_count": 46,
   "metadata": {},
   "outputs": [
    {
     "data": {
      "text/html": [
       "<div>\n",
       "<style scoped>\n",
       "    .dataframe tbody tr th:only-of-type {\n",
       "        vertical-align: middle;\n",
       "    }\n",
       "\n",
       "    .dataframe tbody tr th {\n",
       "        vertical-align: top;\n",
       "    }\n",
       "\n",
       "    .dataframe thead th {\n",
       "        text-align: right;\n",
       "    }\n",
       "</style>\n",
       "<table border=\"1\" class=\"dataframe\">\n",
       "  <thead>\n",
       "    <tr style=\"text-align: right;\">\n",
       "      <th></th>\n",
       "      <th>Jan</th>\n",
       "      <th>Feb</th>\n",
       "      <th>Mar</th>\n",
       "      <th>Apr</th>\n",
       "      <th>May</th>\n",
       "      <th>Jun</th>\n",
       "      <th>Jul</th>\n",
       "      <th>Aug</th>\n",
       "      <th>Sep</th>\n",
       "      <th>Oct</th>\n",
       "      <th>Nov</th>\n",
       "      <th>Dec</th>\n",
       "    </tr>\n",
       "    <tr>\n",
       "      <th>Year</th>\n",
       "      <th></th>\n",
       "      <th></th>\n",
       "      <th></th>\n",
       "      <th></th>\n",
       "      <th></th>\n",
       "      <th></th>\n",
       "      <th></th>\n",
       "      <th></th>\n",
       "      <th></th>\n",
       "      <th></th>\n",
       "      <th></th>\n",
       "      <th></th>\n",
       "    </tr>\n",
       "  </thead>\n",
       "  <tbody>\n",
       "    <tr>\n",
       "      <th>1871</th>\n",
       "      <td>2.76</td>\n",
       "      <td>4.58</td>\n",
       "      <td>5.01</td>\n",
       "      <td>4.13</td>\n",
       "      <td>3.30</td>\n",
       "      <td>2.98</td>\n",
       "      <td>1.58</td>\n",
       "      <td>2.36</td>\n",
       "      <td>0.95</td>\n",
       "      <td>1.31</td>\n",
       "      <td>2.13</td>\n",
       "      <td>1.65</td>\n",
       "    </tr>\n",
       "    <tr>\n",
       "      <th>1872</th>\n",
       "      <td>2.32</td>\n",
       "      <td>2.11</td>\n",
       "      <td>3.14</td>\n",
       "      <td>5.91</td>\n",
       "      <td>3.09</td>\n",
       "      <td>5.17</td>\n",
       "      <td>6.10</td>\n",
       "      <td>1.65</td>\n",
       "      <td>4.50</td>\n",
       "      <td>1.58</td>\n",
       "      <td>2.25</td>\n",
       "      <td>2.38</td>\n",
       "    </tr>\n",
       "    <tr>\n",
       "      <th>1873</th>\n",
       "      <td>2.96</td>\n",
       "      <td>7.14</td>\n",
       "      <td>4.11</td>\n",
       "      <td>3.59</td>\n",
       "      <td>6.31</td>\n",
       "      <td>4.20</td>\n",
       "      <td>4.63</td>\n",
       "      <td>2.36</td>\n",
       "      <td>1.81</td>\n",
       "      <td>4.28</td>\n",
       "      <td>4.36</td>\n",
       "      <td>5.94</td>\n",
       "    </tr>\n",
       "    <tr>\n",
       "      <th>1874</th>\n",
       "      <td>5.22</td>\n",
       "      <td>9.23</td>\n",
       "      <td>5.36</td>\n",
       "      <td>11.84</td>\n",
       "      <td>1.49</td>\n",
       "      <td>2.87</td>\n",
       "      <td>2.65</td>\n",
       "      <td>3.52</td>\n",
       "      <td>3.12</td>\n",
       "      <td>2.63</td>\n",
       "      <td>6.12</td>\n",
       "      <td>4.19</td>\n",
       "    </tr>\n",
       "    <tr>\n",
       "      <th>1875</th>\n",
       "      <td>6.15</td>\n",
       "      <td>3.06</td>\n",
       "      <td>8.14</td>\n",
       "      <td>4.22</td>\n",
       "      <td>1.73</td>\n",
       "      <td>5.63</td>\n",
       "      <td>8.12</td>\n",
       "      <td>1.60</td>\n",
       "      <td>3.79</td>\n",
       "      <td>1.25</td>\n",
       "      <td>5.46</td>\n",
       "      <td>4.30</td>\n",
       "    </tr>\n",
       "  </tbody>\n",
       "</table>\n",
       "</div>"
      ],
      "text/plain": [
       "       Jan   Feb   Mar    Apr   May   Jun   Jul   Aug   Sep   Oct   Nov   Dec\n",
       "Year                                                                         \n",
       "1871  2.76  4.58  5.01   4.13  3.30  2.98  1.58  2.36  0.95  1.31  2.13  1.65\n",
       "1872  2.32  2.11  3.14   5.91  3.09  5.17  6.10  1.65  4.50  1.58  2.25  2.38\n",
       "1873  2.96  7.14  4.11   3.59  6.31  4.20  4.63  2.36  1.81  4.28  4.36  5.94\n",
       "1874  5.22  9.23  5.36  11.84  1.49  2.87  2.65  3.52  3.12  2.63  6.12  4.19\n",
       "1875  6.15  3.06  8.14   4.22  1.73  5.63  8.12  1.60  3.79  1.25  5.46  4.30"
      ]
     },
     "execution_count": 46,
     "metadata": {},
     "output_type": "execute_result"
    }
   ],
   "source": [
    "nash_precip = pd.read_table('nashville_precip.txt', delimiter='\\s+', na_values='NA', index_col=0)\n",
    "nash_precip.head()"
   ]
  },
  {
   "cell_type": "code",
   "execution_count": 47,
   "metadata": {},
   "outputs": [],
   "source": [
    "july_rain = nash_precip.Jul\n",
    "jan_rain = nash_precip.Jan"
   ]
  },
  {
   "cell_type": "code",
   "execution_count": 48,
   "metadata": {},
   "outputs": [
    {
     "data": {
      "text/plain": [
       "<matplotlib.axes._subplots.AxesSubplot at 0x7f5378804cf8>"
      ]
     },
     "execution_count": 48,
     "metadata": {},
     "output_type": "execute_result"
    },
    {
     "data": {
      "image/png": "[encoded data removed]",
      "text/plain": [
       "<matplotlib.figure.Figure at 0x7f53788c44e0>"
      ]
     },
     "metadata": {},
     "output_type": "display_data"
    }
   ],
   "source": [
    "july_rain.hist()"
   ]
  },
  {
   "cell_type": "code",
   "execution_count": 49,
   "metadata": {},
   "outputs": [
    {
     "data": {
      "text/plain": [
       "['AR',\n",
       " 'AR1',\n",
       " 'Bernoulli',\n",
       " 'Beta',\n",
       " 'BetaBinomial',\n",
       " 'Binomial',\n",
       " 'Bound',\n",
       " 'Categorical',\n",
       " 'Cauchy',\n",
       " 'ChiSquared',\n",
       " 'Constant',\n",
       " 'ConstantDist',\n",
       " 'Continuous',\n",
       " 'DensityDist',\n",
       " 'Dirichlet',\n",
       " 'Discrete',\n",
       " 'DiscreteUniform',\n",
       " 'DiscreteWeibull',\n",
       " 'Distribution',\n",
       " 'ExGaussian',\n",
       " 'Exponential',\n",
       " 'Flat',\n",
       " 'GARCH11',\n",
       " 'Gamma',\n",
       " 'GaussianRandomWalk',\n",
       " 'Geometric',\n",
       " 'Gumbel',\n",
       " 'HalfCauchy',\n",
       " 'HalfFlat',\n",
       " 'HalfNormal',\n",
       " 'HalfStudentT',\n",
       " 'Interpolated',\n",
       " 'InverseGamma',\n",
       " 'LKJCholeskyCov',\n",
       " 'LKJCorr',\n",
       " 'Laplace',\n",
       " 'Logistic',\n",
       " 'Lognormal',\n",
       " 'MatrixNormal',\n",
       " 'Mixture',\n",
       " 'Multinomial',\n",
       " 'MvGaussianRandomWalk',\n",
       " 'MvNormal',\n",
       " 'MvStudentT',\n",
       " 'MvStudentTRandomWalk',\n",
       " 'NegativeBinomial',\n",
       " 'NoDistribution',\n",
       " 'Normal',\n",
       " 'NormalMixture',\n",
       " 'Pareto',\n",
       " 'Poisson',\n",
       " 'SkewNormal',\n",
       " 'StudentT',\n",
       " 'TensorType',\n",
       " 'Triangular',\n",
       " 'Uniform',\n",
       " 'VonMises',\n",
       " 'Wald',\n",
       " 'Weibull',\n",
       " 'Wishart',\n",
       " 'WishartBartlett',\n",
       " 'ZeroInflatedBinomial',\n",
       " 'ZeroInflatedNegativeBinomial',\n",
       " 'ZeroInflatedPoisson',\n",
       " '__all__',\n",
       " '__builtins__',\n",
       " '__cached__',\n",
       " '__doc__',\n",
       " '__file__',\n",
       " '__loader__',\n",
       " '__name__',\n",
       " '__package__',\n",
       " '__path__',\n",
       " '__spec__',\n",
       " 'bound',\n",
       " 'continuous',\n",
       " 'discrete',\n",
       " 'dist_math',\n",
       " 'distribution',\n",
       " 'draw_values',\n",
       " 'generate_samples',\n",
       " 'log',\n",
       " 'logodds',\n",
       " 'mixture',\n",
       " 'multivariate',\n",
       " 'special',\n",
       " 'stick_breaking',\n",
       " 'sum_to_1',\n",
       " 'timeseries',\n",
       " 'transform',\n",
       " 'transforms']"
      ]
     },
     "execution_count": 49,
     "metadata": {},
     "output_type": "execute_result"
    }
   ],
   "source": [
    "from pymc3 import distributions\n",
    "dir(distributions)"
   ]
  },
  {
   "cell_type": "code",
   "execution_count": 50,
   "metadata": {},
   "outputs": [
    {
     "data": {
      "text/plain": [
       "<matplotlib.axes._subplots.AxesSubplot at 0x7f5378751a90>"
      ]
     },
     "execution_count": 50,
     "metadata": {},
     "output_type": "execute_result"
    },
    {
     "data": {
      "image/png": "[encoded data removed]",
      "text/plain": [
       "<matplotlib.figure.Figure at 0x7f5378760080>"
      ]
     },
     "metadata": {},
     "output_type": "display_data"
    }
   ],
   "source": [
    "july_rain.apply(np.log).hist()"
   ]
  },
  {
   "cell_type": "code",
   "execution_count": 51,
   "metadata": {},
   "outputs": [],
   "source": [
    "from pymc3 import Gamma"
   ]
  },
  {
   "cell_type": "code",
   "execution_count": 55,
   "metadata": {},
   "outputs": [],
   "source": [
    "with Model() as rainfall_model:\n",
    "    o = Uniform('o', 0, 1000)\n",
    "    \n",
    "    mu_jan = Uniform('mu_jan', 0, 25)\n",
    "    mu_jul = Uniform('mu_jul', 0, 25)\n",
    "    \n",
    "    jan = Gamma('jan', mu=mu_jan, sd = o, observed = jan_rain)\n",
    "    jul = Gamma('jul', mu=mu_jul, sd = o, observed = july_rain)\n",
    "    \n",
    "    d = Deterministic('d', mu_jan - mu_jul)"
   ]
  },
  {
   "cell_type": "code",
   "execution_count": 56,
   "metadata": {},
   "outputs": [
    {
     "name": "stderr",
     "output_type": "stream",
     "text": [
      "Average Loss = 910.2: 100%|██████████| 20000/20000 [00:05<00:00, 3679.24it/s]  \n",
      "Finished [100%]: Average Loss = 910.14\n"
     ]
    }
   ],
   "source": [
    "with rainfall_model:\n",
    "    samples = fit(20000).sample(1000)"
   ]
  },
  {
   "cell_type": "code",
   "execution_count": 57,
   "metadata": {},
   "outputs": [
    {
     "data": {
      "text/plain": [
       "<matplotlib.axes._subplots.AxesSubplot at 0x7f5373cf6208>"
      ]
     },
     "execution_count": 57,
     "metadata": {},
     "output_type": "execute_result"
    },
    {
     "data": {
      "image/png": "[encoded data removed]",
      "text/plain": [
       "<matplotlib.figure.Figure at 0x7f5373cfc6d8>"
      ]
     },
     "metadata": {},
     "output_type": "display_data"
    }
   ],
   "source": [
    "plot_posterior(samples, varnames=['d'])"
   ]
  },
  {
   "cell_type": "code",
   "execution_count": 58,
   "metadata": {},
   "outputs": [
    {
     "data": {
      "text/html": [
       "<div>\n",
       "<style scoped>\n",
       "    .dataframe tbody tr th:only-of-type {\n",
       "        vertical-align: middle;\n",
       "    }\n",
       "\n",
       "    .dataframe tbody tr th {\n",
       "        vertical-align: top;\n",
       "    }\n",
       "\n",
       "    .dataframe thead th {\n",
       "        text-align: right;\n",
       "    }\n",
       "</style>\n",
       "<table border=\"1\" class=\"dataframe\">\n",
       "  <thead>\n",
       "    <tr style=\"text-align: right;\">\n",
       "      <th></th>\n",
       "      <th>birth</th>\n",
       "      <th>exit</th>\n",
       "      <th>hospstay</th>\n",
       "      <th>lowph</th>\n",
       "      <th>pltct</th>\n",
       "      <th>race</th>\n",
       "      <th>bwt</th>\n",
       "      <th>gest</th>\n",
       "      <th>inout</th>\n",
       "      <th>twn</th>\n",
       "      <th>...</th>\n",
       "      <th>vent</th>\n",
       "      <th>pneumo</th>\n",
       "      <th>pda</th>\n",
       "      <th>cld</th>\n",
       "      <th>pvh</th>\n",
       "      <th>ivh</th>\n",
       "      <th>ipe</th>\n",
       "      <th>year</th>\n",
       "      <th>sex</th>\n",
       "      <th>dead</th>\n",
       "    </tr>\n",
       "  </thead>\n",
       "  <tbody>\n",
       "    <tr>\n",
       "      <th>5</th>\n",
       "      <td>81.593002</td>\n",
       "      <td>81.598999</td>\n",
       "      <td>2.0</td>\n",
       "      <td>6.969997</td>\n",
       "      <td>54.0</td>\n",
       "      <td>black</td>\n",
       "      <td>925.0</td>\n",
       "      <td>28.0</td>\n",
       "      <td>born at Duke</td>\n",
       "      <td>0.0</td>\n",
       "      <td>...</td>\n",
       "      <td>1.0</td>\n",
       "      <td>1.0</td>\n",
       "      <td>0.0</td>\n",
       "      <td>0.0</td>\n",
       "      <td>definite</td>\n",
       "      <td>definite</td>\n",
       "      <td>NaN</td>\n",
       "      <td>81.594055</td>\n",
       "      <td>female</td>\n",
       "      <td>1</td>\n",
       "    </tr>\n",
       "    <tr>\n",
       "      <th>6</th>\n",
       "      <td>81.601997</td>\n",
       "      <td>81.771004</td>\n",
       "      <td>62.0</td>\n",
       "      <td>7.189999</td>\n",
       "      <td>NaN</td>\n",
       "      <td>white</td>\n",
       "      <td>940.0</td>\n",
       "      <td>28.0</td>\n",
       "      <td>born at Duke</td>\n",
       "      <td>0.0</td>\n",
       "      <td>...</td>\n",
       "      <td>1.0</td>\n",
       "      <td>0.0</td>\n",
       "      <td>0.0</td>\n",
       "      <td>0.0</td>\n",
       "      <td>absent</td>\n",
       "      <td>absent</td>\n",
       "      <td>absent</td>\n",
       "      <td>81.602295</td>\n",
       "      <td>female</td>\n",
       "      <td>0</td>\n",
       "    </tr>\n",
       "    <tr>\n",
       "      <th>13</th>\n",
       "      <td>81.683998</td>\n",
       "      <td>81.853996</td>\n",
       "      <td>62.0</td>\n",
       "      <td>7.179996</td>\n",
       "      <td>182.0</td>\n",
       "      <td>black</td>\n",
       "      <td>1110.0</td>\n",
       "      <td>28.0</td>\n",
       "      <td>born at Duke</td>\n",
       "      <td>0.0</td>\n",
       "      <td>...</td>\n",
       "      <td>0.0</td>\n",
       "      <td>1.0</td>\n",
       "      <td>0.0</td>\n",
       "      <td>1.0</td>\n",
       "      <td>absent</td>\n",
       "      <td>absent</td>\n",
       "      <td>absent</td>\n",
       "      <td>81.684448</td>\n",
       "      <td>male</td>\n",
       "      <td>0</td>\n",
       "    </tr>\n",
       "    <tr>\n",
       "      <th>14</th>\n",
       "      <td>81.689003</td>\n",
       "      <td>81.877998</td>\n",
       "      <td>69.0</td>\n",
       "      <td>7.419998</td>\n",
       "      <td>361.0</td>\n",
       "      <td>white</td>\n",
       "      <td>1180.0</td>\n",
       "      <td>28.0</td>\n",
       "      <td>born at Duke</td>\n",
       "      <td>0.0</td>\n",
       "      <td>...</td>\n",
       "      <td>0.0</td>\n",
       "      <td>0.0</td>\n",
       "      <td>0.0</td>\n",
       "      <td>0.0</td>\n",
       "      <td>absent</td>\n",
       "      <td>absent</td>\n",
       "      <td>absent</td>\n",
       "      <td>81.689880</td>\n",
       "      <td>male</td>\n",
       "      <td>0</td>\n",
       "    </tr>\n",
       "    <tr>\n",
       "      <th>16</th>\n",
       "      <td>81.696999</td>\n",
       "      <td>81.952004</td>\n",
       "      <td>93.0</td>\n",
       "      <td>7.239998</td>\n",
       "      <td>255.0</td>\n",
       "      <td>black</td>\n",
       "      <td>770.0</td>\n",
       "      <td>26.0</td>\n",
       "      <td>born at Duke</td>\n",
       "      <td>0.0</td>\n",
       "      <td>...</td>\n",
       "      <td>1.0</td>\n",
       "      <td>0.0</td>\n",
       "      <td>0.0</td>\n",
       "      <td>1.0</td>\n",
       "      <td>absent</td>\n",
       "      <td>absent</td>\n",
       "      <td>absent</td>\n",
       "      <td>81.698120</td>\n",
       "      <td>male</td>\n",
       "      <td>0</td>\n",
       "    </tr>\n",
       "  </tbody>\n",
       "</table>\n",
       "<p>5 rows × 26 columns</p>\n",
       "</div>"
      ],
      "text/plain": [
       "        birth       exit  hospstay     lowph  pltct   race     bwt  gest  \\\n",
       "5   81.593002  81.598999       2.0  6.969997   54.0  black   925.0  28.0   \n",
       "6   81.601997  81.771004      62.0  7.189999    NaN  white   940.0  28.0   \n",
       "13  81.683998  81.853996      62.0  7.179996  182.0  black  1110.0  28.0   \n",
       "14  81.689003  81.877998      69.0  7.419998  361.0  white  1180.0  28.0   \n",
       "16  81.696999  81.952004      93.0  7.239998  255.0  black   770.0  26.0   \n",
       "\n",
       "           inout  twn  ...   vent  pneumo  pda  cld       pvh       ivh  \\\n",
       "5   born at Duke  0.0  ...    1.0     1.0  0.0  0.0  definite  definite   \n",
       "6   born at Duke  0.0  ...    1.0     0.0  0.0  0.0    absent    absent   \n",
       "13  born at Duke  0.0  ...    0.0     1.0  0.0  1.0    absent    absent   \n",
       "14  born at Duke  0.0  ...    0.0     0.0  0.0  0.0    absent    absent   \n",
       "16  born at Duke  0.0  ...    1.0     0.0  0.0  1.0    absent    absent   \n",
       "\n",
       "       ipe       year     sex  dead  \n",
       "5      NaN  81.594055  female     1  \n",
       "6   absent  81.602295  female     0  \n",
       "13  absent  81.684448    male     0  \n",
       "14  absent  81.689880    male     0  \n",
       "16  absent  81.698120    male     0  \n",
       "\n",
       "[5 rows x 26 columns]"
      ]
     },
     "execution_count": 58,
     "metadata": {},
     "output_type": "execute_result"
    }
   ],
   "source": [
    "vlbw = pd.read_csv('vlbw.csv', index_col=0).dropna(axis=0, subset=['ivh', 'pneumo'])\n",
    "vlbw.head()"
   ]
  },
  {
   "cell_type": "code",
   "execution_count": 59,
   "metadata": {},
   "outputs": [
    {
     "data": {
      "text/html": [
       "<div>\n",
       "<style scoped>\n",
       "    .dataframe tbody tr th:only-of-type {\n",
       "        vertical-align: middle;\n",
       "    }\n",
       "\n",
       "    .dataframe tbody tr th {\n",
       "        vertical-align: top;\n",
       "    }\n",
       "\n",
       "    .dataframe thead th {\n",
       "        text-align: right;\n",
       "    }\n",
       "</style>\n",
       "<table border=\"1\" class=\"dataframe\">\n",
       "  <thead>\n",
       "    <tr style=\"text-align: right;\">\n",
       "      <th>pneumo</th>\n",
       "      <th>0.0</th>\n",
       "      <th>1.0</th>\n",
       "    </tr>\n",
       "    <tr>\n",
       "      <th>ivh</th>\n",
       "      <th></th>\n",
       "      <th></th>\n",
       "    </tr>\n",
       "  </thead>\n",
       "  <tbody>\n",
       "    <tr>\n",
       "      <th>absent</th>\n",
       "      <td>359</td>\n",
       "      <td>73</td>\n",
       "    </tr>\n",
       "    <tr>\n",
       "      <th>definite</th>\n",
       "      <td>45</td>\n",
       "      <td>30</td>\n",
       "    </tr>\n",
       "    <tr>\n",
       "      <th>possible</th>\n",
       "      <td>6</td>\n",
       "      <td>4</td>\n",
       "    </tr>\n",
       "  </tbody>\n",
       "</table>\n",
       "</div>"
      ],
      "text/plain": [
       "pneumo    0.0  1.0\n",
       "ivh               \n",
       "absent    359   73\n",
       "definite   45   30\n",
       "possible    6    4"
      ]
     },
     "execution_count": 59,
     "metadata": {},
     "output_type": "execute_result"
    }
   ],
   "source": [
    "pd.crosstab(vlbw.ivh, vlbw.pneumo)"
   ]
  },
  {
   "cell_type": "code",
   "execution_count": 60,
   "metadata": {},
   "outputs": [],
   "source": [
    "ivh = vlbw.ivh.isin(['definite', 'possible']).astype(int).values\n",
    "x = vlbw.pneumo.astype(int).values"
   ]
  },
  {
   "cell_type": "code",
   "execution_count": 61,
   "metadata": {},
   "outputs": [
    {
     "data": {
      "image/png": "[encoded data removed]",
      "text/plain": [
       "<matplotlib.figure.Figure at 0x7f5375090fd0>"
      ]
     },
     "metadata": {},
     "output_type": "display_data"
    }
   ],
   "source": [
    "from pymc3 import Beta\n",
    "\n",
    "params = (5,1), (1,3), (5,5), (0.5, 0.5), (1,1)\n",
    "\n",
    "fig, axes = plt.subplots(1, len(params), figsize = (14,4), sharey = True)\n",
    "for ax, (alpha, beta) in zip(axes, params):\n",
    "    sns.distplot(Beta.dist(alpha, beta).random(size=10000), ax=ax, kde=False)\n",
    "    ax.set_xlim(0,1)\n",
    "    ax.set_title(r'$\\alpha={0}, \\beta={1}$'.format(alpha,beta))"
   ]
  },
  {
   "cell_type": "code",
   "execution_count": 62,
   "metadata": {},
   "outputs": [],
   "source": [
    "with Model() as ivh_model:\n",
    "    p = Beta('p', 1, 1, shape=2)"
   ]
  },
  {
   "cell_type": "code",
   "execution_count": 63,
   "metadata": {},
   "outputs": [],
   "source": [
    "from pymc3 import Bernoulli\n",
    "\n",
    "with ivh_model:\n",
    "    bb_like = Bernoulli('bb_like', p=p[x], observed = ivh)"
   ]
  },
  {
   "cell_type": "code",
   "execution_count": 64,
   "metadata": {},
   "outputs": [],
   "source": [
    "with ivh_model:\n",
    "    p_diff = Deterministic('p_diff', p[1] - p[0])"
   ]
  },
  {
   "cell_type": "code",
   "execution_count": 65,
   "metadata": {},
   "outputs": [
    {
     "name": "stderr",
     "output_type": "stream",
     "text": [
      "Average Loss = 226.71: 100%|██████████| 10000/10000 [00:02<00:00, 3739.85it/s]\n",
      "Finished [100%]: Average Loss = 226.71\n"
     ]
    }
   ],
   "source": [
    "with ivh_model:\n",
    "    ivh_trace = fit(random_seed=RANDOM_SEED).sample(1000)"
   ]
  },
  {
   "cell_type": "code",
   "execution_count": 66,
   "metadata": {},
   "outputs": [
    {
     "data": {
      "text/plain": [
       "array([<matplotlib.axes._subplots.AxesSubplot object at 0x7f536b9ee908>,\n",
       "       <matplotlib.axes._subplots.AxesSubplot object at 0x7f536b9a6438>], dtype=object)"
      ]
     },
     "execution_count": 66,
     "metadata": {},
     "output_type": "execute_result"
    },
    {
     "data": {
      "image/png": "[encoded data removed]",
      "text/plain": [
       "<matplotlib.figure.Figure at 0x7f536b9e6320>"
      ]
     },
     "metadata": {},
     "output_type": "display_data"
    }
   ],
   "source": [
    "plot_posterior(ivh_trace[100:], varnames = ['p'], color='#87ceeb')"
   ]
  },
  {
   "cell_type": "code",
   "execution_count": 67,
   "metadata": {},
   "outputs": [
    {
     "data": {
      "text/plain": [
       "<matplotlib.axes._subplots.AxesSubplot at 0x7f536b85fa20>"
      ]
     },
     "execution_count": 67,
     "metadata": {},
     "output_type": "execute_result"
    },
    {
     "data": {
      "image/png": "[encoded data removed]",
      "text/plain": [
       "<matplotlib.figure.Figure at 0x7f536b938358>"
      ]
     },
     "metadata": {},
     "output_type": "display_data"
    }
   ],
   "source": [
    "plot_posterior(ivh_trace[100:], varnames=['p_diff'], ref_val=0, color='#87ceeb')"
   ]
  },
  {
   "cell_type": "code",
   "execution_count": 68,
   "metadata": {},
   "outputs": [
    {
     "name": "stdout",
     "output_type": "stream",
     "text": [
      "Brendan McNamara\n"
     ]
    }
   ],
   "source": [
    "print(\"Brendan McNamara\")"
   ]
  },
  {
   "cell_type": "code",
   "execution_count": null,
   "metadata": {},
   "outputs": [],
   "source": []
  }
 ],
 "metadata": {
  "kernelspec": {
   "display_name": "Python 3",
   "language": "python",
   "name": "python3"
  },
  "language_info": {
   "codemirror_mode": {
    "name": "ipython",
    "version": 3
   },
   "file_extension": ".py",
   "mimetype": "text/x-python",
   "name": "python",
   "nbconvert_exporter": "python",
   "pygments_lexer": "ipython3",
   "version": "3.6.4"
  }
 },
 "nbformat": 4,
 "nbformat_minor": 2
}
